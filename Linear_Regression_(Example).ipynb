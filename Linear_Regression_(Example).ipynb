{
  "nbformat": 4,
  "nbformat_minor": 0,
  "metadata": {
    "colab": {
      "provenance": []
    },
    "kernelspec": {
      "name": "python3",
      "display_name": "Python 3"
    },
    "language_info": {
      "name": "python"
    }
  },
  "cells": [
    {
      "cell_type": "code",
      "source": [
        "import tensorflow\n",
        "import numpy\n",
        "import matplotlib"
      ],
      "metadata": {
        "id": "qU_VKlYHmg2Q"
      },
      "execution_count": 1,
      "outputs": []
    },
    {
      "cell_type": "code",
      "source": [
        "learning_rate = 0.01\n",
        "epochs = 500"
      ],
      "metadata": {
        "id": "7WUm-aoKpBwn"
      },
      "execution_count": 2,
      "outputs": []
    },
    {
      "cell_type": "code",
      "source": [
        "x = numpy.array(numpy.random.randn(100))\n",
        "y = numpy.array(3*x+2*numpy.random.randn(100))\n",
        "# Randomly generated values"
      ],
      "metadata": {
        "id": "msGkrf6dqGse"
      },
      "execution_count": 3,
      "outputs": []
    },
    {
      "cell_type": "code",
      "source": [
        "matplotlib.pyplot.plot(x, y, 'o')\n",
        "matplotlib.pyplot.show()"
      ],
      "metadata": {
        "colab": {
          "base_uri": "https://localhost:8080/",
          "height": 265
        },
        "id": "stMfs9gQrn_j",
        "outputId": "f013849b-b567-472e-9dd4-f19db446044b"
      },
      "execution_count": 4,
      "outputs": [
        {
          "output_type": "display_data",
          "data": {
            "text/plain": [
              "<Figure size 432x288 with 1 Axes>"
            ],
            "image/png": "[encoded data removed]"
          },
          "metadata": {
            "needs_background": "light"
          }
        }
      ]
    },
    {
      "cell_type": "code",
      "source": [
        "weight = tensorflow.Variable(numpy.random.randn())\n",
        "bias = tensorflow.Variable(numpy.random.randn())"
      ],
      "metadata": {
        "id": "TlnGfV5iqdGh"
      },
      "execution_count": 5,
      "outputs": []
    },
    {
      "cell_type": "code",
      "source": [
        "optimizer = tensorflow.optimizers.SGD(learning_rate)"
      ],
      "metadata": {
        "id": "6lO5qNwUtrfB"
      },
      "execution_count": 6,
      "outputs": []
    },
    {
      "cell_type": "code",
      "source": [
        "for step in range(epochs+1):\n",
        "  with tensorflow.GradientTape() as g:\n",
        "    prediction = weight*x+bias\n",
        "    cost = tensorflow.reduce_mean(tensorflow.square(prediction-y))\n",
        "  gradients = g.gradient(cost, [weight, bias])\n",
        "  optimizer.apply_gradients(zip(gradients, [weight, bias]))\n",
        "  if step % 20 == 0:\n",
        "    print(f'epoch: {step:04d}, cost = {cost:.4f}, weight = {weight.numpy():.4f}, bias = {bias.numpy():.4f}')"
      ],
      "metadata": {
        "colab": {
          "base_uri": "https://localhost:8080/"
        },
        "id": "-NQxFzfesmYu",
        "outputId": "1547b5e3-2e74-4f7a-f0b7-1796ca394749"
      },
      "execution_count": 7,
      "outputs": [
        {
          "output_type": "stream",
          "name": "stdout",
          "text": [
            "epoch: 0000, cost = 14.1324, weight = -0.3280, bias = 0.8194\n",
            "epoch: 0020, cost = 8.8471, weight = 0.6444, bias = 0.5505\n",
            "epoch: 0040, cost = 6.2559, weight = 1.3335, bias = 0.3938\n",
            "epoch: 0060, cost = 4.9749, weight = 1.8225, bias = 0.3054\n",
            "epoch: 0080, cost = 4.3367, weight = 2.1702, bias = 0.2579\n",
            "epoch: 0100, cost = 4.0165, weight = 2.4177, bias = 0.2344\n",
            "epoch: 0120, cost = 3.8548, weight = 2.5941, bias = 0.2245\n",
            "epoch: 0140, cost = 3.7726, weight = 2.7200, bias = 0.2221\n",
            "epoch: 0160, cost = 3.7307, weight = 2.8100, bias = 0.2234\n",
            "epoch: 0180, cost = 3.7092, weight = 2.8744, bias = 0.2264\n",
            "epoch: 0200, cost = 3.6981, weight = 2.9205, bias = 0.2300\n",
            "epoch: 0220, cost = 3.6924, weight = 2.9536, bias = 0.2334\n",
            "epoch: 0240, cost = 3.6895, weight = 2.9773, bias = 0.2365\n",
            "epoch: 0260, cost = 3.6879, weight = 2.9944, bias = 0.2391\n",
            "epoch: 0280, cost = 3.6871, weight = 3.0066, bias = 0.2413\n",
            "epoch: 0300, cost = 3.6867, weight = 3.0154, bias = 0.2430\n",
            "epoch: 0320, cost = 3.6865, weight = 3.0218, bias = 0.2444\n",
            "epoch: 0340, cost = 3.6864, weight = 3.0263, bias = 0.2454\n",
            "epoch: 0360, cost = 3.6863, weight = 3.0296, bias = 0.2462\n",
            "epoch: 0380, cost = 3.6863, weight = 3.0320, bias = 0.2469\n",
            "epoch: 0400, cost = 3.6863, weight = 3.0337, bias = 0.2473\n",
            "epoch: 0420, cost = 3.6863, weight = 3.0349, bias = 0.2477\n",
            "epoch: 0440, cost = 3.6863, weight = 3.0358, bias = 0.2480\n",
            "epoch: 0460, cost = 3.6863, weight = 3.0365, bias = 0.2482\n",
            "epoch: 0480, cost = 3.6862, weight = 3.0369, bias = 0.2483\n",
            "epoch: 0500, cost = 3.6862, weight = 3.0373, bias = 0.2484\n"
          ]
        }
      ]
    },
    {
      "cell_type": "code",
      "source": [
        "matplotlib.pyplot.plot(x, y, 'o')\n",
        "matplotlib.pyplot.plot(x, weight*x+bias)\n",
        "matplotlib.pyplot.show()"
      ],
      "metadata": {
        "colab": {
          "base_uri": "https://localhost:8080/",
          "height": 265
        },
        "id": "Xhq68yM0wY2r",
        "outputId": "0f92fdd4-6ceb-4146-9e54-0b603d9190e0"
      },
      "execution_count": 8,
      "outputs": [
        {
          "output_type": "display_data",
          "data": {
            "text/plain": [
              "<Figure size 432x288 with 1 Axes>"
            ],
            "image/png": "[encoded data removed]"
          },
          "metadata": {
            "needs_background": "light"
          }
        }
      ]
    }
  ]
}