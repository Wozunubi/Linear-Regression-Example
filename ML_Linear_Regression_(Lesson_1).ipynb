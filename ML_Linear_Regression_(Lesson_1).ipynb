{
  "nbformat": 4,
  "nbformat_minor": 0,
  "metadata": {
    "colab": {
      "provenance": []
    },
    "kernelspec": {
      "name": "python3",
      "display_name": "Python 3"
    },
    "language_info": {
      "name": "python"
    }
  },
  "cells": [
    {
      "cell_type": "code",
      "execution_count": null,
      "metadata": {
        "id": "_rIy0CrwfZ3p"
      },
      "outputs": [],
      "source": [
        "# Importing libraries\n",
        "import tensorflow as tf\n",
        "import numpy as np\n",
        "import matplotlib.pyplot as plt"
      ]
    },
    {
      "cell_type": "code",
      "source": [
        "# Defining useful parameters\n",
        "learningRate = 0.01\n",
        "epochs = 500"
      ],
      "metadata": {
        "id": "4xJgypWUpVir"
      },
      "execution_count": null,
      "outputs": []
    },
    {
      "cell_type": "code",
      "source": [
        "# Generating random values for x and y\n",
        "x = np.array(np.random.randn(100))\n",
        "y = np.array(2*x+10+np.random.randn(100))"
      ],
      "metadata": {
        "id": "WYEZImRnpye_"
      },
      "execution_count": null,
      "outputs": []
    },
    {
      "cell_type": "code",
      "source": [
        "# Displaying the data\n",
        "plt.plot(x, y, 'o')\n",
        "plt.show()"
      ],
      "metadata": {
        "colab": {
          "base_uri": "https://localhost:8080/",
          "height": 265
        },
        "id": "FzT1T1ypqP13",
        "outputId": "fe61675c-1ccb-4316-af56-8ba45d265ed7"
      },
      "execution_count": null,
      "outputs": [
        {
          "output_type": "display_data",
          "data": {
            "text/plain": [
              "<Figure size 432x288 with 1 Axes>"
            ],
            "image/png": "[encoded data removed]"
          },
          "metadata": {
            "needs_background": "light"
          }
        }
      ]
    },
    {
      "cell_type": "code",
      "source": [
        "weight = tf.Variable(np.random.randn())\n",
        "bias = tf.Variable(np.random.randn())"
      ],
      "metadata": {
        "id": "J2uRsX5csD0s"
      },
      "execution_count": null,
      "outputs": []
    },
    {
      "cell_type": "code",
      "source": [
        "optimizer = tf.optimizers.SGD(learningRate)"
      ],
      "metadata": {
        "id": "opLgoSHqt2kO"
      },
      "execution_count": null,
      "outputs": []
    },
    {
      "cell_type": "code",
      "source": [
        "for step in range(epochs+1):\n",
        "  with tf.GradientTape() as g:\n",
        "    predict = weight*x+bias\n",
        "    cost = tf.reduce_mean(tf.square(predict-y))\n",
        "\n",
        "  grad = g.gradient(cost, [weight, bias])\n",
        "  optimizer.apply_gradients(zip(grad, [weight, bias]))\n",
        "\n",
        "  if step%50 == 0:\n",
        "    print(f'epochs={step:04d}, cost={cost:.3f}, weight={weight.numpy():.3f}, bias={bias.numpy():.3f}')\n"
      ],
      "metadata": {
        "colab": {
          "base_uri": "https://localhost:8080/"
        },
        "id": "J4rBEcnEu8yx",
        "outputId": "e3167629-5a73-46bb-d34d-0a92670baa7a"
      },
      "execution_count": null,
      "outputs": [
        {
          "output_type": "stream",
          "name": "stdout",
          "text": [
            "epochs=0000, cost=109.430, weight=0.174, bias=0.354\n",
            "epochs=0050, cost=13.313, weight=2.122, bias=6.531\n",
            "epochs=0100, cost=2.833, weight=2.369, bias=8.669\n",
            "epochs=0150, cost=1.471, weight=2.280, bias=9.446\n",
            "epochs=0200, cost=1.252, weight=2.175, bias=9.745\n",
            "epochs=0250, cost=1.211, weight=2.107, bias=9.866\n",
            "epochs=0300, cost=1.202, weight=2.068, bias=9.917\n",
            "epochs=0350, cost=1.200, weight=2.048, bias=9.940\n",
            "epochs=0400, cost=1.199, weight=2.037, bias=9.950\n",
            "epochs=0450, cost=1.199, weight=2.032, bias=9.955\n",
            "epochs=0500, cost=1.199, weight=2.030, bias=9.957\n"
          ]
        }
      ]
    },
    {
      "cell_type": "code",
      "source": [
        "plt.plot(x, y, 'o')\n",
        "plt.plot(x, weight*x+bias)\n",
        "plt.show()"
      ],
      "metadata": {
        "colab": {
          "base_uri": "https://localhost:8080/",
          "height": 265
        },
        "id": "YhDGn94sznKO",
        "outputId": "4ad1a3e5-e2b5-4e2c-af5c-267db2e7db50"
      },
      "execution_count": null,
      "outputs": [
        {
          "output_type": "display_data",
          "data": {
            "text/plain": [
              "<Figure size 432x288 with 1 Axes>"
            ],
            "image/png": "[encoded data removed]"
          },
          "metadata": {
            "needs_background": "light"
          }
        }
      ]
    }
  ]
}